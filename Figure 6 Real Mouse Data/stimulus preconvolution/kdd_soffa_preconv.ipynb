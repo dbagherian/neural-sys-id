{
 "cells": [
  {
   "cell_type": "code",
   "execution_count": 1,
   "metadata": {
    "collapsed": false,
    "deletable": true,
    "editable": true
   },
   "outputs": [
    {
     "name": "stdout",
     "output_type": "stream",
     "text": [
      "Populating the interactive namespace from numpy and matplotlib\n"
     ]
    }
   ],
   "source": [
    "%pylab inline\n",
    "%matplotlib inline"
   ]
  },
  {
   "cell_type": "markdown",
   "metadata": {
    "deletable": true,
    "editable": true
   },
   "source": [
    "## Preliminaries"
   ]
  },
  {
   "cell_type": "code",
   "execution_count": 2,
   "metadata": {
    "collapsed": true,
    "deletable": true,
    "editable": true
   },
   "outputs": [],
   "source": [
    "\n",
    "no_data_ex=5858 \n",
    "no_data_validation=0 \n",
    "no_data_test=0 \n",
    "\n",
    "\n",
    "wheretosave='/home/ubuntu/Notebooks/kdd_soffa_preconv_data.mat'\n",
    "\n",
    "\n"
   ]
  },
  {
   "cell_type": "code",
   "execution_count": 3,
   "metadata": {
    "collapsed": false,
    "deletable": true,
    "editable": true
   },
   "outputs": [
    {
     "name": "stdout",
     "output_type": "stream",
     "text": [
      "WARNING:tensorflow:From /home/ubuntu/anaconda3/envs/tensorflow_p27/lib/python2.7/site-packages/tensorflow_core/__init__.py:1467: The name tf.estimator.inputs is deprecated. Please use tf.compat.v1.estimator.inputs instead.\n",
      "\n"
     ]
    }
   ],
   "source": [
    "import scipy.io as sio\n",
    "import numpy as np\n",
    "import matplotlib\n",
    "import matplotlib.pyplot as plt\n",
    "import tensorflow as tf\n",
    "import h5py\n",
    "import hdf5storage\n",
    "from __future__ import division"
   ]
  },
  {
   "cell_type": "code",
   "execution_count": 4,
   "metadata": {
    "collapsed": false,
    "deletable": true,
    "editable": true
   },
   "outputs": [
    {
     "data": {
      "text/plain": [
       "[u'#refs#', u'AllStim']"
      ]
     },
     "execution_count": 4,
     "metadata": {},
     "output_type": "execute_result"
    }
   ],
   "source": [
    "\n",
    "datapath='/home/ubuntu/Notebooks/cell10_x_train.mat'\n",
    "ydatapath='/home/ubuntu/Notebooks/cell10_y_train.mat'\n",
    "\n",
    "\n",
    "f = h5py.File(datapath, 'r')\n",
    "list(f.keys())"
   ]
  },
  {
   "cell_type": "markdown",
   "metadata": {
    "deletable": true,
    "editable": true
   },
   "source": [
    "## Handle training data: Stimuli"
   ]
  },
  {
   "cell_type": "code",
   "execution_count": 5,
   "metadata": {
    "collapsed": true,
    "deletable": true,
    "editable": true
   },
   "outputs": [],
   "source": [
    "\n",
    "numpix=30 #41 #206\n",
    "numpixrow=30"
   ]
  },
  {
   "cell_type": "code",
   "execution_count": 6,
   "metadata": {
    "collapsed": false,
    "deletable": true,
    "editable": true
   },
   "outputs": [
    {
     "name": "stdout",
     "output_type": "stream",
     "text": [
      "(210, 1000)\n"
     ]
    }
   ],
   "source": [
    "data_of_interest_reference = f['AllStim'][7, 0]\n",
    "data_of_interest = f[data_of_interest_reference]\n",
    "print(shape(data_of_interest))"
   ]
  },
  {
   "cell_type": "code",
   "execution_count": 7,
   "metadata": {
    "collapsed": false,
    "deletable": true,
    "editable": true
   },
   "outputs": [
    {
     "name": "stdout",
     "output_type": "stream",
     "text": [
      "(5858, 1000, 30)\n",
      "-0.00020715830203710026\n",
      "-1.0\n",
      "1.0\n"
     ]
    }
   ],
   "source": [
    "\n",
    "        \n",
    "x_train = np.zeros((no_data_ex, shape(data_of_interest)[1], numpixrow)) #in this case the stim is 8 pixels\n",
    "for n in range(no_data_ex):#loop over the training examples\n",
    "    stimref=f['AllStim'][n, 0]\n",
    "    xxxx=np.transpose(f[stimref])\n",
    "    xxx=np.reshape(xxxx, (-1, 210))#we flatten each NxM frame into a NM array.\n",
    "\n",
    "    for m in range(numpixrow):\n",
    "        x_train[n, :, m] = np.sum(xxx[:, 80+(m*2):80+(m*2)+4],1)/4.0 \n",
    "        \n",
    "                   \n",
    "ds=2 #downsample factor\n",
    "\n",
    "\n",
    "\n",
    "print(shape(x_train)) \n",
    "\n",
    "\n",
    "x_train=sign(x_train)\n",
    "\n",
    "print(np.average(x_train))\n",
    "print(np.min((x_train)))\n",
    "print(np.max(x_train))"
   ]
  },
  {
   "cell_type": "code",
   "execution_count": 11,
   "metadata": {
    "collapsed": false,
    "deletable": true,
    "editable": true
   },
   "outputs": [
    {
     "name": "stdout",
     "output_type": "stream",
     "text": [
      "238\n"
     ]
    }
   ],
   "source": [
    "\n",
    "filter_data=sio.loadmat('/home/ubuntu/Notebooks/keat_filters.mat')\n",
    "\n",
    "\n",
    "\n",
    "bip_filters=np.transpose(filter_data['onfiltbank'])\n",
    "ds=2 #downsample factor\n",
    "bip_filters=bip_filters[::ds, :]\n",
    "bip_filtersize=shape(bip_filters)[0]\n",
    "bip_filters=np.transpose(bip_filters)\n",
    "\n",
    "print(bip_filtersize)\n",
    "bip_filters=np.reshape(bip_filters, [16, bip_filtersize, 1, 1, 1])\n",
    "\n",
    "bip_filtersize=shape(bip_filters)[1]\n",
    "\n"
   ]
  },
  {
   "cell_type": "code",
   "execution_count": 12,
   "metadata": {
    "collapsed": false,
    "deletable": true,
    "editable": true
   },
   "outputs": [
    {
     "data": {
      "text/plain": [
       "[<matplotlib.lines.Line2D at 0x7fdbc6760a90>]"
      ]
     },
     "execution_count": 12,
     "metadata": {},
     "output_type": "execute_result"
    },
    {
     "data": {
      "image/png": "[encoded data removed]",
      "text/plain": [
       "<Figure size 432x288 with 1 Axes>"
      ]
     },
     "metadata": {},
     "output_type": "display_data"
    }
   ],
   "source": [
    "plt.figure()\n",
    "plt.plot(squeeze(bip_filters[10, :, :, :, :]))\n",
    "plt.plot(squeeze(bip_filters[0, :, :, :, :]))\n",
    "\n"
   ]
  },
  {
   "cell_type": "code",
   "execution_count": 13,
   "metadata": {
    "collapsed": true,
    "deletable": true,
    "editable": true
   },
   "outputs": [],
   "source": [
    "\n",
    "\n",
    "def pbconv2d(x, W, batchsize):\n",
    "    padsize=238 #150 \n",
    "    paddedx=tf.pad(x, [[0, 0], [padsize, 0], [0, 0], [0, 0]], 'CONSTANT')\n",
    "    outconv=tf.nn.conv2d(paddedx, W, strides=[1, 1, 1, 1], padding='SAME') #250 for movingdot and noise\n",
    "    return tf.reshape(outconv[:, np.round(padsize/2).astype(int):np.round(padsize/2).astype(int)+shape(x_train)[1], :, 0],\\\n",
    "                      [batchsize, shape(x_train)[1], -1, 1])\n",
    "\n"
   ]
  },
  {
   "cell_type": "code",
   "execution_count": 14,
   "metadata": {
    "collapsed": true,
    "deletable": true,
    "editable": true
   },
   "outputs": [],
   "source": [
    "genx_ = tf.placeholder(\"float\", name=\"input_generation\")\n",
    "batchsize_ = tf.placeholder(\"int32\", name=\"batch_size\")\n",
    "\n",
    "\n",
    "\n",
    "input1 = tf.reshape(genx_, [batchsize_, x_train.shape[1], -1, 1])\n",
    "\n",
    "\n",
    "filtforconv=reshape(bip_filters[0, :, :, :, :], [bip_filtersize, 1, 1, 1])\n",
    "output_1 = pbconv2d(input1 , filtforconv, batchsize_)\n",
    "# output_1 = tf.reshape(temp_output_1, [1, x_train.shape[1]])\n",
    "\n",
    "filtforconv=reshape(bip_filters[1, :, :, :, :], [bip_filtersize, 1, 1, 1])\n",
    "output_2 = pbconv2d(input1 , filtforconv, batchsize_)\n",
    "# output_2 = tf.reshape(temp_output_1, [1, x_train.shape[1]])\n",
    "\n",
    "filtforconv=reshape(bip_filters[2, :, :, :, :], [bip_filtersize, 1, 1, 1])\n",
    "output_3 = pbconv2d(input1 , filtforconv, batchsize_)\n",
    "# output_3 = tf.reshape(temp_output_1, [1, x_train.shape[1]])\n",
    "\n",
    "filtforconv=reshape(bip_filters[3, :, :, :, :], [bip_filtersize, 1, 1, 1])\n",
    "output_4 = pbconv2d(input1 , filtforconv, batchsize_)\n",
    "# output_1 = tf.reshape(temp_output_1, [1, x_train.shape[1]])\n",
    "\n",
    "filtforconv=reshape(bip_filters[4, :, :, :, :], [bip_filtersize, 1, 1, 1])\n",
    "output_5 = pbconv2d(input1 , filtforconv, batchsize_)\n",
    "# output_2 = tf.reshape(temp_output_1, [1, x_train.shape[1]])\n",
    "\n",
    "filtforconv=reshape(bip_filters[5, :, :, :, :], [bip_filtersize, 1, 1, 1])\n",
    "output_6 = pbconv2d(input1 , filtforconv, batchsize_)\n",
    "# output_3 = tf.reshape(temp_output_1, [1, x_train.shape[1]])\n",
    "\n",
    "filtforconv=reshape(bip_filters[6, :, :, :, :], [bip_filtersize, 1, 1, 1])\n",
    "output_7 = pbconv2d(input1 , filtforconv, batchsize_)\n",
    "# output_1 = tf.reshape(temp_output_1, [1, x_train.shape[1]])\n",
    "\n",
    "filtforconv=reshape(bip_filters[7, :, :, :, :], [bip_filtersize, 1, 1, 1])\n",
    "output_8 = pbconv2d(input1 , filtforconv, batchsize_)\n",
    "# output_2 = tf.reshape(temp_output_1, [1, x_train.shape[1]])\n",
    "\n",
    "filtforconv=reshape(bip_filters[8, :, :, :, :], [bip_filtersize, 1, 1, 1])\n",
    "output_9 = pbconv2d(input1 , filtforconv, batchsize_)\n",
    "# output_3 = tf.reshape(temp_output_1, [1, x_train.shape[1]])\n",
    "\n",
    "filtforconv=reshape(bip_filters[9, :, :, :, :], [bip_filtersize, 1, 1, 1])\n",
    "output_10 = pbconv2d(input1 , filtforconv, batchsize_)\n",
    "# output_1 = tf.reshape(temp_output_1, [1, x_train.shape[1]])\n",
    "\n",
    "filtforconv=reshape(bip_filters[10, :, :, :, :], [bip_filtersize, 1, 1, 1])\n",
    "output_11 = pbconv2d(input1 , filtforconv, batchsize_)\n",
    "# output_2 = tf.reshape(temp_output_1, [1, x_train.shape[1]])\n",
    "\n",
    "filtforconv=reshape(bip_filters[11, :, :, :, :], [bip_filtersize, 1, 1, 1])\n",
    "output_12 = pbconv2d(input1 , filtforconv, batchsize_)\n",
    "# output_3 = tf.reshape(temp_output_1, [1, x_train.shape[1]])\n",
    "\n",
    "filtforconv=reshape(bip_filters[12, :, :, :, :], [bip_filtersize, 1, 1, 1])\n",
    "output_13 = pbconv2d(input1 , filtforconv, batchsize_)\n",
    "# output_1 = tf.reshape(temp_output_1, [1, x_train.shape[1]])\n",
    "\n",
    "filtforconv=reshape(bip_filters[13, :, :, :, :], [bip_filtersize, 1, 1, 1])\n",
    "output_14 = pbconv2d(input1 , filtforconv, batchsize_)\n",
    "# output_2 = tf.reshape(temp_output_1, [1, x_train.shape[1]])\n",
    "\n",
    "filtforconv=reshape(bip_filters[14, :, :, :, :], [bip_filtersize, 1, 1, 1])\n",
    "output_15 = pbconv2d(input1 , filtforconv, batchsize_)\n",
    "# output_2 = tf.reshape(temp_output_1, [1, x_train.shape[1]])\n",
    "\n",
    "filtforconv=reshape(bip_filters[15, :, :, :, :], [bip_filtersize, 1, 1, 1])\n",
    "output_16 = pbconv2d(input1 , filtforconv, batchsize_)\n",
    "# output_2 = tf.reshape(temp_output_1, [1, x_train.shape[1]])\n",
    "\n",
    "\n",
    "\n"
   ]
  },
  {
   "cell_type": "code",
   "execution_count": 15,
   "metadata": {
    "collapsed": true,
    "deletable": true,
    "editable": true
   },
   "outputs": [],
   "source": [
    "gensess=tf.Session()\n",
    "gensess.run(tf.global_variables_initializer())\n",
    "\n",
    "\n",
    "fd = {genx_: x_train}"
   ]
  },
  {
   "cell_type": "code",
   "execution_count": 18,
   "metadata": {
    "collapsed": true,
    "deletable": true,
    "editable": true
   },
   "outputs": [],
   "source": [
    "dur=shape(x_train)[1]\n",
    "\n",
    "all_output_1=np.zeros([no_data_ex, dur, numpixrow])\n",
    "all_output_2=np.zeros([no_data_ex, dur, numpixrow])\n",
    "all_output_3=np.zeros([no_data_ex, dur, numpixrow])\n",
    "all_output_4=np.zeros([no_data_ex, dur, numpixrow])\n",
    "all_output_5=np.zeros([no_data_ex, dur, numpixrow])\n",
    "all_output_6=np.zeros([no_data_ex, dur, numpixrow])\n",
    "all_output_7=np.zeros([no_data_ex, dur, numpixrow])\n",
    "all_output_8=np.zeros([no_data_ex, dur, numpixrow])\n",
    "all_output_9=np.zeros([no_data_ex, dur, numpixrow])\n",
    "all_output_10=np.zeros([no_data_ex, dur, numpixrow])\n",
    "all_output_11=np.zeros([no_data_ex, dur, numpixrow])\n",
    "all_output_12=np.zeros([no_data_ex, dur, numpixrow])\n",
    "all_output_13=np.zeros([no_data_ex, dur, numpixrow])\n",
    "all_output_14=np.zeros([no_data_ex, dur, numpixrow])\n",
    "all_output_15=np.zeros([no_data_ex, dur, numpixrow])\n",
    "all_output_16=np.zeros([no_data_ex, dur, numpixrow])\n",
    "\n",
    "\n",
    "batchsz=5\n",
    "for bbatch in range(int(floor(no_data_ex/5.0))):\n",
    "    startind=(bbatch)*batchsz\n",
    "    endind=(bbatch+1)*batchsz\n",
    "    fd = {batchsize_: batchsz, genx_: x_train[startind:endind, :, :]}\n",
    "    o_output_11 =gensess.run([output_1], feed_dict=fd)\n",
    "    all_output_1[startind:endind,:, :]=np.reshape(o_output_11, [batchsz, dur, numpixrow])\n",
    "    \n",
    "    o_output_21 =gensess.run([output_2], feed_dict=fd)\n",
    "    all_output_2[startind:endind,:, :]=np.reshape(o_output_21, [batchsz, dur, numpixrow])\n",
    "    \n",
    "    o_output_31 =gensess.run([output_3], feed_dict=fd)\n",
    "    all_output_3[startind:endind,:, :]=np.reshape(o_output_31, [batchsz, dur, numpixrow])\n",
    "    \n",
    "    o_output_41 =gensess.run([output_4], feed_dict=fd)\n",
    "    all_output_4[startind:endind,:, :]=np.reshape(o_output_41, [batchsz, dur, numpixrow])\n",
    "    \n",
    "    o_output_51 =gensess.run([output_5], feed_dict=fd)\n",
    "    all_output_5[startind:endind,:, :]=np.reshape(o_output_51, [batchsz, dur, numpixrow])\n",
    "    \n",
    "    o_output_61 =gensess.run([output_6], feed_dict=fd)\n",
    "    all_output_6[startind:endind,:, :]=np.reshape(o_output_61, [batchsz, dur, numpixrow])\n",
    "    \n",
    "    o_output_71 =gensess.run([output_7], feed_dict=fd)\n",
    "    all_output_7[startind:endind,:, :]=np.reshape(o_output_71, [batchsz, dur, numpixrow])\n",
    "    \n",
    "    o_output_81 =gensess.run([output_8], feed_dict=fd)\n",
    "    all_output_8[startind:endind,:, :]=np.reshape(o_output_81, [batchsz, dur, numpixrow])\n",
    "    \n",
    "    o_output_91 =gensess.run([output_9], feed_dict=fd)\n",
    "    all_output_9[startind:endind,:, :]=np.reshape(o_output_91, [batchsz, dur, numpixrow])\n",
    "    \n",
    "    o_output_101 =gensess.run([output_10], feed_dict=fd)\n",
    "    all_output_10[startind:endind,:, :]=np.reshape(o_output_101, [batchsz, dur, numpixrow])\n",
    "    \n",
    "    o_output_111 =gensess.run([output_11], feed_dict=fd)\n",
    "    all_output_11[startind:endind,:, :]=np.reshape(o_output_111, [batchsz, dur, numpixrow])\n",
    "    \n",
    "    o_output_121 =gensess.run([output_12], feed_dict=fd)\n",
    "    all_output_12[startind:endind,:, :]=np.reshape(o_output_121, [batchsz, dur, numpixrow])\n",
    "    \n",
    "    o_output_131 =gensess.run([output_13], feed_dict=fd)\n",
    "    all_output_13[startind:endind,:, :]=np.reshape(o_output_131, [batchsz, dur, numpixrow])\n",
    "    \n",
    "    o_output_141 =gensess.run([output_14], feed_dict=fd)\n",
    "    all_output_14[startind:endind,:, :]=np.reshape(o_output_141, [batchsz, dur, numpixrow])\n",
    "    \n",
    "    o_output_151 =gensess.run([output_15], feed_dict=fd)\n",
    "    all_output_15[startind:endind,:, :]=np.reshape(o_output_151, [batchsz, dur, numpixrow])\n",
    "    \n",
    "    o_output_161 =gensess.run([output_16], feed_dict=fd)\n",
    "    all_output_16[startind:endind,:, :]=np.reshape(o_output_161, [batchsz, dur, numpixrow])\n",
    "    \n",
    "    \n",
    "\n",
    "\n"
   ]
  },
  {
   "cell_type": "code",
   "execution_count": 22,
   "metadata": {
    "collapsed": true,
    "deletable": true,
    "editable": true
   },
   "outputs": [],
   "source": [
    "\n",
    "\n",
    "import h5py\n",
    "import hdf5storage\n",
    "\n",
    "\n",
    "td={}\n",
    "td[u'x_train']=x_train\n",
    "\n",
    "td[u'bip_filters']=bip_filters\n",
    "\n",
    "td[u'b1_input']=all_output_1\n",
    "td[u'b2_input']=all_output_2\n",
    "td[u'b3_input']=all_output_3\n",
    "td[u'b4_input']=all_output_4\n",
    "td[u'b5_input']=all_output_5\n",
    "td[u'b6_input']=all_output_6\n",
    "td[u'b7_input']=all_output_7\n",
    "td[u'b8_input']=all_output_8\n",
    "td[u'b9_input']=all_output_9\n",
    "td[u'b10_input']=all_output_10\n",
    "td[u'b11_input']=all_output_11\n",
    "td[u'b12_input']=all_output_12\n",
    "td[u'b13_input']=all_output_13\n",
    "td[u'b14_input']=all_output_14\n",
    "td[u'b15_input']=all_output_15\n",
    "td[u'b16_input']=all_output_16\n",
    "\n",
    "\n",
    "hdf5storage.savemat(wheretosave, td, format='7.3', oned_as='column', store_python_metadata=True)\n"
   ]
  }
 ],
 "metadata": {
  "kernelspec": {
   "display_name": "Python 2",
   "language": "python",
   "name": "python2"
  },
  "language_info": {
   "codemirror_mode": {
    "name": "ipython",
    "version": 2
   },
   "file_extension": ".py",
   "mimetype": "text/x-python",
   "name": "python",
   "nbconvert_exporter": "python",
   "pygments_lexer": "ipython2",
   "version": "2.7.13"
  }
 },
 "nbformat": 4,
 "nbformat_minor": 1
}
